{
  "metadata": {
    "dataExplorerConfig": {},
    "bento_stylesheets": {
      "bento/extensions/flow/main.css": true,
      "bento/extensions/kernel_selector/main.css": true,
      "bento/extensions/kernel_ui/main.css": true,
      "bento/extensions/new_kernel/main.css": true,
      "bento/extensions/system_usage/main.css": true,
      "bento/extensions/theme/main.css": true
    },
    "kernelspec": {
      "display_name": "body_tracking (local)",
      "language": "python",
      "name": "body_tracking_local",
      "metadata": {
        "is_prebuilt": false,
        "kernel_name": "body_tracking_local",
        "cinder_runtime": false
      },
      "cinder_runtime": false
    },
    "language_info": {
      "codemirror_mode": {
        "name": "ipython",
        "version": 3
      },
      "file_extension": ".py",
      "mimetype": "text/x-python",
      "name": "python",
      "nbconvert_exporter": "python",
      "pygments_lexer": "ipython3"
    },
    "last_server_session_id": "b7e867c5-4e83-4c9c-a963-bc705b7beb8a",
    "last_kernel_id": "ea5e9601-47fd-43e4-b06a-80b027b99227",
    "last_base_url": "https://4240.od.fbinfra.net:443/",
    "last_msg_id": "8a82fc18-1c27bfd8570b8acb30ea022d_162",
    "outputWidgetContext": {}
  },
  "nbformat": 4,
  "nbformat_minor": 2,
  "cells": [
    {
      "cell_type": "code",
      "metadata": {
        "collapsed": false,
        "originalKey": "238bfd19-bccf-43c5-9173-5054a57689ca",
        "requestMsgId": "238bfd19-bccf-43c5-9173-5054a57689ca",
        "customOutput": null,
        "executionStartTime": 1663684570674,
        "executionStopTime": 1663684570978
      },
      "source": [
        "import sys\n",
        "\n",
        "from iopath.common.file_io import PathManager\n",
        "from iopath.fb.manifold import ManifoldPathHandler\n",
        "import torch\n",
        "import matplotlib.pyplot as plt\n",
        "sys.path.insert(0, \"fbcode/ar_sharing/body_tracking_3d/models/hmr/\")\n",
        "\n",
        "pathmgr = PathManager()\n",
        "pathmgr.register_handler(ManifoldPathHandler(), allow_override=True)\n",
        "\n",
        "%load_ext autoreload\n",
        "%autoreload 2"
      ],
      "execution_count": 118,
      "outputs": [
        {
          "output_type": "stream",
          "name": "stdout",
          "text": [
            "The autoreload extension is already loaded. To reload it, use:\n  %reload_ext autoreload\n"
          ]
        }
      ]
    },
    {
      "cell_type": "code",
      "metadata": {
        "originalKey": "af648774-3286-463b-b1df-7bc357ab09a9",
        "showInput": true,
        "customInput": null,
        "collapsed": false,
        "requestMsgId": "af648774-3286-463b-b1df-7bc357ab09a9",
        "customOutput": null,
        "executionStartTime": 1663684570986,
        "executionStopTime": 1663684570992
      },
      "source": [
        "import src"
      ],
      "execution_count": 119,
      "outputs": []
    },
    {
      "cell_type": "code",
      "metadata": {
        "originalKey": "d518457e-788d-4a73-bce7-4be7852ff9de",
        "showInput": true,
        "customInput": null,
        "collapsed": false,
        "requestMsgId": "d518457e-788d-4a73-bce7-4be7852ff9de",
        "customOutput": null,
        "executionStartTime": 1663684948215,
        "executionStopTime": 1663684950030
      },
      "source": [
        "device = \"cuda:0\"\n",
        "\n",
        "from src.models.seq_optim import SeqModel\n",
        "\n",
        "seqOpt = SeqModel(\n",
        "    \"manifold://xr_body/tree/personal/andreydavydov/3dpw_seq_for_tests/sample_3dpw_test_seq_downtown_runForBus_01_0__hmr_coco_all.pth\",\n",
        "    seq_num_frames=339,\n",
        ")\n",
        "\n",
        "from src.datasets.datasets_common import UNNORMALIZE\n",
        "\n",
        "img = UNNORMALIZE(seqOpt.orig_seq[\"img\"])\n",
        "print(img.shape)\n",
        "\n",
        "from src.models.raft import raft_pretrained\n",
        "\n",
        "optical_flow_model = raft_pretrained().to(device)\n",
        "optical_flow_model = optical_flow_model.eval()\n",
        "\n",
        "img1 = img[:-1].clone()\n",
        "img2 = img[1:].clone()"
      ],
      "execution_count": 132,
      "outputs": [
        {
          "output_type": "stream",
          "name": "stderr",
          "text": [
            "I0920 074229.243 manifold.py:1435] URL manifold://xr_body/tree/personal/andreydavydov/3dpw_seq_for_tests/sample_3dpw_test_seq_downtown_runForBus_01_0__hmr_coco_all.pth was already cached in /var/svcscm/.torch/iopath_cache/manifold_cache/tree/personal/andreydavydov/3dpw_seq_for_tests/sample_3dpw_test_seq_downtown_runForBus_01_0__hmr_coco_all.pth\n"
          ]
        },
        {
          "output_type": "stream",
          "name": "stderr",
          "text": [
            "I0920 074229.957 manifold.py:1435] URL manifold://xr_body/tree/personal/andreydavydov/raft/models/raft-things.pth was already cached in /var/svcscm/.torch/iopath_cache/manifold_cache/tree/personal/andreydavydov/raft/models/raft-things.pth\n"
          ]
        },
        {
          "output_type": "stream",
          "name": "stdout",
          "text": [
            "torch.Size([339, 3, 224, 224])\n"
          ]
        }
      ]
    },
    {
      "cell_type": "code",
      "metadata": {
        "originalKey": "ec11d3aa-c6b5-4582-81d1-164ef4381399",
        "showInput": true,
        "customInput": null,
        "collapsed": false,
        "requestMsgId": "ec11d3aa-c6b5-4582-81d1-164ef4381399",
        "customOutput": null,
        "executionStartTime": 1663684950350,
        "executionStopTime": 1663684958383
      },
      "source": [
        "max_batch = 32\n",
        "flows_forward_time = []\n",
        "flows_backward_time = []\n",
        "with torch.no_grad():\n",
        "    for img1_, img2_ in zip(torch.split(img1, max_batch), torch.split(img2, max_batch)):\n",
        "        _, flow_up = optical_flow_model(img1_.to(device), img2_.to(device), iters=20, test_mode=True)\n",
        "        flows_forward_time.append(flow_up.cpu())\n",
        "        _, flow_up = optical_flow_model(img2_.to(device), img1_.to(device), iters=20, test_mode=True)\n",
        "        flows_backward_time.append(flow_up.cpu())\n",
        "\n",
        "flows_forward_time = torch.cat(flows_forward_time)\n",
        "flows_backward_time = torch.cat(flows_backward_time)\n",
        "print(flows_forward_time.shape, flows_backward_time.shape)"
      ],
      "execution_count": 133,
      "outputs": [
        {
          "output_type": "stream",
          "name": "stdout",
          "text": [
            "torch.Size([338, 2, 224, 224]) torch.Size([338, 2, 224, 224])\n"
          ]
        }
      ]
    },
    {
      "cell_type": "code",
      "metadata": {
        "originalKey": "d2055f38-f2ac-4ff2-add7-c69be3adbbef",
        "showInput": true,
        "customInput": null,
        "collapsed": false,
        "requestMsgId": "d2055f38-f2ac-4ff2-add7-c69be3adbbef",
        "customOutput": null,
        "executionStartTime": 1663684958618,
        "executionStopTime": 1663684958666
      },
      "source": [
        ""
      ],
      "execution_count": 134,
      "outputs": []
    },
    {
      "cell_type": "code",
      "metadata": {
        "originalKey": "7c5a803b-4e67-4a8c-b484-0fbad2fbabac",
        "showInput": true,
        "customInput": null,
        "collapsed": false,
        "requestMsgId": "7c5a803b-4e67-4a8c-b484-0fbad2fbabac",
        "customOutput": null,
        "executionStartTime": 1663684958992,
        "executionStopTime": 1663684961370
      },
      "source": [
        "t = dict(forward_time=flows_forward_time, backward_time=flows_backward_time)\n",
        "\n",
        "savepath = \"/tmp/optical_flow.pth\"\n",
        "remote_path = \"manifold://xr_body/tree/personal/andreydavydov/3dpw_seq_for_tests/optical_flow_presaved/optical_flows_for_seq.pth\"\n",
        "\n",
        "torch.save(t, savepath)\n",
        "pathmgr.copy_from_local(savepath, remote_path, overwrite=True)"
      ],
      "execution_count": 135,
      "outputs": [
        {
          "output_type": "execute_result",
          "data": {
            "text/plain": "True"
          },
          "metadata": {
            "bento_obj_id": "140589942762976"
          },
          "execution_count": 135
        }
      ]
    },
    {
      "cell_type": "code",
      "metadata": {
        "originalKey": "990958d8-83a9-4def-ab28-879ec9a864af",
        "showInput": true,
        "customInput": null
      },
      "source": [
        ""
      ],
      "execution_count": null,
      "outputs": []
    },
    {
      "cell_type": "code",
      "metadata": {
        "originalKey": "60b2069f-b194-4bc6-bf38-2e1e89109e1d",
        "showInput": true,
        "customInput": null
      },
      "source": [
        ""
      ],
      "execution_count": null,
      "outputs": []
    },
    {
      "cell_type": "code",
      "metadata": {
        "originalKey": "3ef58966-4bba-488e-8723-5fa82baaf503",
        "showInput": true,
        "customInput": null
      },
      "source": [
        ""
      ],
      "execution_count": null,
      "outputs": []
    },
    {
      "cell_type": "code",
      "metadata": {
        "originalKey": "7d50d978-a4b2-4284-aeda-480d18b5189c",
        "showInput": true,
        "customInput": null
      },
      "source": [
        ""
      ],
      "execution_count": null,
      "outputs": []
    },
    {
      "cell_type": "code",
      "metadata": {
        "originalKey": "78420fef-e5cf-4487-b8ac-ec7267188b32",
        "showInput": true,
        "customInput": null
      },
      "source": [
        ""
      ],
      "execution_count": null,
      "outputs": []
    },
    {
      "cell_type": "code",
      "metadata": {
        "originalKey": "18866b78-6276-48f1-af86-0cdb3cf3a187",
        "showInput": true,
        "customInput": null
      },
      "source": [
        ""
      ],
      "execution_count": null,
      "outputs": []
    },
    {
      "cell_type": "code",
      "metadata": {
        "originalKey": "24b56a04-2eb2-4b35-aa7f-aff98e8cfba3",
        "showInput": true,
        "customInput": null
      },
      "source": [
        ""
      ],
      "execution_count": null,
      "outputs": []
    }
  ]
}
