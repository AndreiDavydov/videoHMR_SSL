{
  "metadata": {
    "dataExplorerConfig": {},
    "bento_stylesheets": {
      "bento/extensions/flow/main.css": true,
      "bento/extensions/kernel_selector/main.css": true,
      "bento/extensions/kernel_ui/main.css": true,
      "bento/extensions/new_kernel/main.css": true,
      "bento/extensions/system_usage/main.css": true,
      "bento/extensions/theme/main.css": true
    },
    "kernelspec": {
      "display_name": "body_tracking (local)",
      "language": "python",
      "name": "body_tracking_local",
      "metadata": {
        "is_prebuilt": false,
        "kernel_name": "body_tracking_local",
        "cinder_runtime": false
      },
      "cinder_runtime": false
    },
    "language_info": {
      "codemirror_mode": {
        "name": "ipython",
        "version": 3
      },
      "file_extension": ".py",
      "mimetype": "text/x-python",
      "name": "python",
      "nbconvert_exporter": "python",
      "pygments_lexer": "ipython3"
    },
    "last_server_session_id": "03241ef6-ea95-4482-899e-4d52e6e974ad",
    "last_kernel_id": "572ce0c6-798f-4fc2-896c-8b13ce996625",
    "last_base_url": "https://0707.od.fbinfra.net:443/",
    "last_msg_id": "7beb3880-6b6abf0b11b3373d0ac9c5f3_218",
    "outputWidgetContext": {}
  },
  "nbformat": 4,
  "nbformat_minor": 2,
  "cells": [
    {
      "cell_type": "code",
      "metadata": {
        "collapsed": false,
        "originalKey": "f9878f24-67bc-4b38-940b-d9c8129a2b17",
        "requestMsgId": "f9878f24-67bc-4b38-940b-d9c8129a2b17",
        "customOutput": null,
        "executionStartTime": 1665062648481,
        "executionStopTime": 1665062651140
      },
      "source": [
        "import sys\n",
        "\n",
        "import matplotlib.pyplot as plt\n",
        "\n",
        "import torch\n",
        "\n",
        "from iopath.common.file_io import PathManager\n",
        "from iopath.fb.manifold import ManifoldPathHandler\n",
        "\n",
        "sys.path.insert(0, \"fbcode/ar_sharing/body_tracking_3d/models/hmr/\")\n",
        "\n",
        "pathmgr = PathManager()\n",
        "pathmgr.register_handler(ManifoldPathHandler(), allow_override=True)\n",
        "\n",
        "%load_ext autoreload\n",
        "%autoreload 2"
      ],
      "execution_count": 1,
      "outputs": [
        {
          "output_type": "stream",
          "name": "stderr",
          "text": [
            "I1006 062410.137 _utils_internal.py:179] NCCL_DEBUG env var is set to None\n"
          ]
        },
        {
          "output_type": "stream",
          "name": "stderr",
          "text": [
            "I1006 062410.139 _utils_internal.py:188] NCCL_DEBUG is INFO from /etc/nccl.conf\n"
          ]
        },
        {
          "output_type": "stream",
          "name": "stderr",
          "text": [
            "I1006 062411.183 parsh_logger.py:29] %autoreload 2 was called with \n"
          ]
        }
      ]
    },
    {
      "cell_type": "code",
      "metadata": {
        "originalKey": "238b7128-a7ab-48d6-b3f2-10378db5f957",
        "showInput": true,
        "customInput": null,
        "collapsed": false,
        "requestMsgId": "238b7128-a7ab-48d6-b3f2-10378db5f957",
        "customOutput": null,
        "executionStartTime": 1665062651311,
        "executionStopTime": 1665062654389
      },
      "source": [
        "import src"
      ],
      "execution_count": 2,
      "outputs": []
    },
    {
      "cell_type": "code",
      "metadata": {
        "originalKey": "90c757d7-f779-40bc-a06d-6df5bb0d72f8",
        "showInput": true,
        "customInput": null,
        "collapsed": false,
        "requestMsgId": "90c757d7-f779-40bc-a06d-6df5bb0d72f8",
        "customOutput": null,
        "executionStartTime": 1665062654594,
        "executionStopTime": 1665062656222
      },
      "source": [
        "from src.functional import smpl\n",
        "from src.functional.optical_flow import (\n",
        "    get_corners_for_points,\n",
        "    unproject_corners_on_mesh,\n",
        "    unproject_data_to_vertices,\n",
        ")\n",
        "from src.functional.renderer import (\n",
        "    ColoredRenderer,\n",
        "    convert_vertices_to_mesh,\n",
        "    fit_vertices_to_orthographic,\n",
        "    get_default_cameras,\n",
        ")\n",
        "from src.models.seq_optim import SeqModel"
      ],
      "execution_count": 3,
      "outputs": []
    },
    {
      "cell_type": "code",
      "metadata": {
        "originalKey": "bf81a67a-d2ab-4e30-9f89-e360eaac5d82",
        "showInput": true,
        "customInput": null,
        "collapsed": false,
        "requestMsgId": "bf81a67a-d2ab-4e30-9f89-e360eaac5d82",
        "customOutput": null,
        "executionStartTime": 1665062704768,
        "executionStopTime": 1665062706764
      },
      "source": [
        "torch.set_grad_enabled(False)\n",
        "\n",
        "### load sample\n",
        "seqOpt = SeqModel(\n",
        "    **{\n",
        "        \"seq_path\": \"manifold://xr_body/tree/personal/andreydavydov/3dpw_seq_for_tests/sample_3dpw_test_seq_downtown_runForBus_01_0__hmr_coco_all.pth\",\n",
        "        \"seq_num_frames\": 339,\n",
        "        \"optical_flow_presaved\": \"manifold://xr_body/tree/personal/andreydavydov/3dpw_seq_for_tests/optical_flow_presaved/optical_flows_for_seq.pth\",\n",
        "    }\n",
        ")\n",
        "\n",
        "smpl_model = smpl.get_smpl_model()\n",
        "smpl_model_faces = smpl_model.faces.astype(int)\n",
        "smpl_model_faces = torch.tensor(smpl_model_faces.copy()).unsqueeze(0)\n",
        "\n",
        "opt_flow_forward = seqOpt.optical_flow[\"forward_time\"]\n",
        "opt_flow_backward = seqOpt.optical_flow[\"backward_time\"]\n",
        "\n",
        "### keep only 10 frames\n",
        "B = 10\n",
        "seqOpt.pose.data = seqOpt.pose.data[:B]\n",
        "seqOpt.shape.data = seqOpt.shape.data[:B]\n",
        "seqOpt.camera.data = seqOpt.camera.data[:B]\n",
        "opt_flow_forward = opt_flow_forward[: B - 1]\n",
        "opt_flow_backward = opt_flow_backward[: B - 1]\n",
        "img_size = opt_flow_forward.size(-1)\n",
        "\n",
        "device = \"cuda:0\"\n",
        "seqOpt = seqOpt.to(device)\n",
        "opt_flow_forward = opt_flow_forward.to(device)\n",
        "opt_flow_backward = opt_flow_backward.to(device)\n",
        "smpl_model = smpl_model.to(device)\n",
        "cameras = get_default_cameras(device, mode=\"orthographic\")\n",
        "\n",
        "### align vertices with pixels\n",
        "_, _, verts3d = seqOpt(smpl_model)\n",
        "batch_size = verts3d.size(0)\n",
        "camera = seqOpt.camera\n",
        "scale, trans = camera[:, 0], camera[:, 1:]\n",
        "verts3d = verts3d * scale.view(batch_size, 1, 1)\n",
        "verts3d[:, :, 0:2] = verts3d[:, :, 0:2] + trans.view(batch_size, 1, 2)\n",
        "verts3d = (verts3d + 1) / 2 * img_size"
      ],
      "execution_count": 8,
      "outputs": [
        {
          "output_type": "stream",
          "name": "stderr",
          "text": [
            "I1006 062504.718 manifold.py:1442] URL manifold://xr_body/tree/personal/andreydavydov/3dpw_seq_for_tests/sample_3dpw_test_seq_downtown_runForBus_01_0__hmr_coco_all.pth was already cached in /var/svcscm/.torch/iopath_cache/manifold_cache/tree/personal/andreydavydov/3dpw_seq_for_tests/sample_3dpw_test_seq_downtown_runForBus_01_0__hmr_coco_all.pth\n"
          ]
        },
        {
          "output_type": "stream",
          "name": "stderr",
          "text": [
            "I1006 062505.073 manifold.py:1442] URL manifold://xr_body/tree/personal/andreydavydov/3dpw_seq_for_tests/optical_flow_presaved/optical_flows_for_seq.pth was already cached in /var/svcscm/.torch/iopath_cache/manifold_cache/tree/personal/andreydavydov/3dpw_seq_for_tests/optical_flow_presaved/optical_flows_for_seq.pth\n"
          ]
        },
        {
          "output_type": "stream",
          "name": "stderr",
          "text": [
            "I1006 062506.632 manifold.py:1442] URL manifold://xr_body/tree/personal/andreydavydov/eft/extradata/smpl/basicModel_neutral_lbs_10_207_0_v1.0.0.pkl was already cached in /var/svcscm/.torch/iopath_cache/manifold_cache/tree/personal/andreydavydov/eft/extradata/smpl/basicModel_neutral_lbs_10_207_0_v1.0.0.pkl\n"
          ]
        },
        {
          "output_type": "stream",
          "name": "stderr",
          "text": [
            "I1006 062506.737 manifold.py:1442] URL manifold://xr_body/tree/personal/andreydavydov/eft/extradata/data_from_spin/J_regressor_extra.npy was already cached in /var/svcscm/.torch/iopath_cache/manifold_cache/tree/personal/andreydavydov/eft/extradata/data_from_spin/J_regressor_extra.npy\n"
          ]
        },
        {
          "output_type": "stream",
          "name": "stdout",
          "text": [
            "WARNING: You are using a SMPL model, with only 10 shape coefficients.\n"
          ]
        }
      ]
    },
    {
      "cell_type": "code",
      "metadata": {
        "originalKey": "d0143e11-9186-47f9-9c39-7f3bb3fd9173",
        "showInput": true,
        "customInput": null,
        "collapsed": false,
        "requestMsgId": "d0143e11-9186-47f9-9c39-7f3bb3fd9173",
        "customOutput": null,
        "executionStartTime": 1665062707043,
        "executionStopTime": 1665062707151
      },
      "source": [
        "### prepare verts3d for start/end mesh vertices\n",
        "verts3d_start, verts3d_end = verts3d[:-1], verts3d[1:]\n",
        "\n",
        "### unproject OF onto M1\n",
        "unproj_flow2d_forward, vis_mask_start = unproject_data_to_vertices(\n",
        "    verts3d[:-1], opt_flow_forward, smpl_model_faces, cameras\n",
        ")\n",
        "vis_mask_start = vis_mask_start.view(-1)\n",
        "\n",
        "print(verts3d_start.shape, verts3d_end.shape)\n",
        "print(vis_mask_start.shape)\n",
        "print(unproj_flow2d_forward.shape)"
      ],
      "execution_count": 9,
      "outputs": [
        {
          "output_type": "stream",
          "name": "stdout",
          "text": [
            "torch.Size([9, 6890, 3]) torch.Size([9, 6890, 3])\ntorch.Size([62010])\ntorch.Size([9, 6890, 2])\n"
          ]
        }
      ]
    },
    {
      "cell_type": "code",
      "metadata": {
        "originalKey": "c91e58fa-b9eb-432c-bd82-5a05c5f86b26",
        "showInput": true,
        "customInput": null,
        "collapsed": false,
        "requestMsgId": "c91e58fa-b9eb-432c-bd82-5a05c5f86b26",
        "customOutput": null,
        "executionStartTime": 1665062711195,
        "executionStopTime": 1665062711555
      },
      "source": [
        "### compute displacements for Mesh1 vertices on Image2\n",
        "m1_on_i2 = verts3d_start[..., :2] + unproj_flow2d_forward  # (B-1) x N x 2\n",
        "print(m1_on_i2.shape)\n",
        "\n",
        "px_quads, dx, dy = get_corners_for_points(m1_on_i2)\n",
        "bary_coords_corners, verts_triplet_indices, vis_mask_end = unproject_corners_on_mesh(px_quads, verts3d[1:], smpl_model_faces, cameras, img_size=(img_size,img_size))"
      ],
      "execution_count": 12,
      "outputs": [
        {
          "output_type": "stream",
          "name": "stdout",
          "text": [
            "torch.Size([9, 6890, 2])\n"
          ]
        }
      ]
    },
    {
      "cell_type": "code",
      "metadata": {
        "originalKey": "f61e0894-fad8-4195-8e40-f7ef41207e51",
        "showInput": true,
        "customInput": null,
        "collapsed": false,
        "requestMsgId": "f61e0894-fad8-4195-8e40-f7ef41207e51",
        "customOutput": null,
        "executionStartTime": 1665062713773,
        "executionStopTime": 1665062713880
      },
      "source": [
        "vis_mask = (vis_mask_start * vis_mask_end).type(torch.bool)  # mask of verts of M1 that go to visible verts of M2\n",
        "print(bary_coords_corners.shape, verts_triplet_indices.shape, vis_mask.shape)\n",
        "\n",
        "m1_vis_indices = torch.arange(len(vis_mask)).to(device)[vis_mask].view(-1, 1)\n",
        "m2_vis_indices_all = verts_triplet_indices.reshape(-1, 12)[vis_mask]\n",
        "m_map_to_same_indices = (m2_vis_indices_all == m1_vis_indices).type(torch.bool)\n",
        "\n",
        "bary_coords_corners = bary_coords_corners[vis_mask].reshape(-1, 12)\n",
        "\n",
        "print(m1_vis_indices.shape, m2_vis_indices_all.shape, m_map_to_same_indices.shape, bary_coords_corners.shape)\n",
        "print(m1_vis_indices[509])\n",
        "print(m2_vis_indices_all[509])\n",
        "print(m_map_to_same_indices[509])"
      ],
      "execution_count": 13,
      "outputs": [
        {
          "output_type": "stream",
          "name": "stdout",
          "text": [
            "torch.Size([62010, 4, 3]) torch.Size([62010, 4, 3]) torch.Size([62010])\ntorch.Size([6663, 1]) torch.Size([6663, 12]) torch.Size([6663, 12]) torch.Size([6663, 12])\ntensor([5264], device='cuda:0')\ntensor([6573, 5261, 5264, 5264, 4354, 5262, 5263, 6566, 5264, 5262, 5263, 5264],\n       device='cuda:0')\ntensor([False, False,  True,  True, False, False, False, False,  True, False,\n        False,  True], device='cuda:0')\n"
          ]
        }
      ]
    },
    {
      "cell_type": "code",
      "metadata": {
        "originalKey": "e22ee439-f134-4158-8f4f-dd20c8b14356",
        "showInput": true,
        "customInput": null,
        "collapsed": false,
        "requestMsgId": "e22ee439-f134-4158-8f4f-dd20c8b14356",
        "customOutput": null,
        "executionStartTime": 1665062821109,
        "executionStopTime": 1665062821120
      },
      "source": [
        "dx = dx.view(-1)[vis_mask]\n",
        "dy = dy.view(-1)[vis_mask]\n",
        "w_tl = dx * dy\n",
        "w_tr = (1 - dx) * dy\n",
        "w_bl = dx * (1 - dy)\n",
        "w_br = (1 - dx) * (1 - dy)\n",
        "w_faces = torch.stack((w_tl, w_tr, w_bl, w_br), dim=-1)\n",
        "w_faces = w_faces[..., None].repeat(1, 1, 3).view(-1, 12)\n",
        "\n",
        "w = bary_coords_corners * w_faces\n",
        "print(w.shape)"
      ],
      "execution_count": 18,
      "outputs": [
        {
          "output_type": "stream",
          "name": "stdout",
          "text": [
            "torch.Size([6663, 12])\n"
          ]
        }
      ]
    },
    {
      "cell_type": "code",
      "metadata": {
        "originalKey": "5683ec01-e2f0-4619-993d-d31dfca58f16",
        "showInput": true,
        "customInput": null,
        "collapsed": false,
        "requestMsgId": "5683ec01-e2f0-4619-993d-d31dfca58f16",
        "customOutput": null,
        "executionStartTime": 1665062831930,
        "executionStopTime": 1665062831982
      },
      "source": [
        "w[~m_map_to_same_indices]"
      ],
      "execution_count": 19,
      "outputs": [
        {
          "output_type": "execute_result",
          "data": {
            "text/plain": "tensor([0.0487, 0.1440, 0.0283,  ..., 0.1310, 0.0188, 0.0942], device='cuda:0')"
          },
          "metadata": {
            "bento_obj_id": "140695240174624"
          },
          "execution_count": 19
        }
      ]
    },
    {
      "cell_type": "code",
      "metadata": {
        "originalKey": "3c6fa364-97ac-44b1-8bbf-a7cb97e0204b",
        "showInput": true,
        "customInput": null,
        "collapsed": false,
        "requestMsgId": "3c6fa364-97ac-44b1-8bbf-a7cb97e0204b",
        "customOutput": null,
        "executionStartTime": 1665062847008,
        "executionStopTime": 1665062847021
      },
      "source": [
        "m_map_to_same_indices"
      ],
      "execution_count": 21,
      "outputs": [
        {
          "output_type": "execute_result",
          "data": {
            "text/plain": "tensor([[False, False, False,  ..., False, False, False],\n        [False, False, False,  ..., False, False, False],\n        [False, False, False,  ..., False, False, False],\n        ...,\n        [False, False, False,  ..., False, False, False],\n        [False, False, False,  ..., False, False, False],\n        [False, False, False,  ..., False, False, False]], device='cuda:0')"
          },
          "metadata": {
            "bento_obj_id": "140695247963216"
          },
          "execution_count": 21
        }
      ]
    },
    {
      "cell_type": "code",
      "metadata": {
        "originalKey": "0fe28eab-1195-4c91-8fed-66c4d6cb8e22",
        "showInput": true,
        "customInput": null
      },
      "source": [
        ""
      ],
      "execution_count": null,
      "outputs": []
    },
    {
      "cell_type": "code",
      "metadata": {
        "originalKey": "781acb38-4bfc-4d76-a649-5b08ce25bbc0",
        "showInput": true,
        "customInput": null
      },
      "source": [
        ""
      ],
      "execution_count": null,
      "outputs": []
    },
    {
      "cell_type": "code",
      "metadata": {
        "originalKey": "8ba0455b-9afc-4a3e-9904-0fe5ec76eb77",
        "showInput": true,
        "customInput": null
      },
      "source": [
        ""
      ],
      "execution_count": null,
      "outputs": []
    },
    {
      "cell_type": "code",
      "metadata": {
        "originalKey": "0662158c-3c3a-44dd-a997-2f88865c6f5e",
        "showInput": true,
        "customInput": null
      },
      "source": [
        ""
      ],
      "execution_count": null,
      "outputs": []
    },
    {
      "cell_type": "code",
      "metadata": {
        "originalKey": "3df2eaf5-799f-432c-91ce-e55468cede7d",
        "showInput": true,
        "customInput": null
      },
      "source": [
        ""
      ],
      "execution_count": null,
      "outputs": []
    },
    {
      "cell_type": "code",
      "metadata": {
        "originalKey": "b4512cd9-d596-4e4c-ac15-4f3029a4751e",
        "showInput": true,
        "customInput": null
      },
      "source": [
        ""
      ],
      "execution_count": null,
      "outputs": []
    },
    {
      "cell_type": "code",
      "metadata": {
        "originalKey": "2f73bdee-6a2c-4400-b571-714484056dd1",
        "showInput": true,
        "customInput": null,
        "collapsed": false,
        "requestMsgId": "2f73bdee-6a2c-4400-b571-714484056dd1",
        "customOutput": null,
        "executionStartTime": 1664179932955,
        "executionStopTime": 1664277412994
      },
      "source": [
        "sample = torch.load(pathmgr.get_local_path(\"manifold://xr_body/tree/personal/andreydavydov/renderer/sample_for_tests.pth\"))"
      ],
      "execution_count": null,
      "outputs": []
    },
    {
      "cell_type": "code",
      "metadata": {
        "originalKey": "51484f96-55c6-49c7-8ad2-4d9b0c2b0954",
        "showInput": true,
        "customInput": null,
        "collapsed": false,
        "requestMsgId": "51484f96-55c6-49c7-8ad2-4d9b0c2b0954",
        "customOutput": null,
        "executionStartTime": 1664179933823,
        "executionStopTime": 1664277413006
      },
      "source": [
        "device = \"cuda:0\"\n",
        "\n",
        "img = sample[\"img\"].to(device)\n",
        "vertices = sample[\"bbox_verts\"].to(device)\n",
        "faces = sample[\"faces\"]\n",
        "\n",
        "batch_size = img.size(0)\n",
        "img_size = img.shape[-2:]\n",
        "\n",
        "faces_batch = torch.tensor(faces.copy()).unsqueeze(0).repeat(batch_size, 1, 1).to(device)\n",
        "\n",
        "vertices = fit_vertices_to_orthographic(vertices, img_size)\n",
        "meshes = convert_vertices_to_mesh(vertices, faces_batch)\n",
        "\n",
        "renderer = ColoredRenderer(img_size=img_size, device=device, diffuse_color=True, specular_color=True)"
      ],
      "execution_count": null,
      "outputs": []
    },
    {
      "cell_type": "code",
      "metadata": {
        "originalKey": "de3d6e5f-e5df-4992-a4ea-ab41882d670a",
        "showInput": true,
        "customInput": null,
        "collapsed": false,
        "requestMsgId": "de3d6e5f-e5df-4992-a4ea-ab41882d670a",
        "customOutput": null,
        "executionStartTime": 1664277413138,
        "executionStopTime": 1664277413210
      },
      "source": [
        "fragments = renderer.rasterizer(meshes)\n",
        "pix_to_face = fragments.pix_to_face\n",
        "bary_coords = fragments.bary_coords\n",
        "pix_to_face_mask = pix_to_face >= 0"
      ],
      "execution_count": 275,
      "outputs": [
        {
          "output_type": "error",
          "ename": "NameError",
          "evalue": "name 'renderer' is not defined",
          "traceback": [
            "\u001b[0;31m---------------------------------------------------------------------------\u001b[0m",
            "\u001b[0;31mNameError\u001b[0m                                 Traceback (most recent call last)",
            "\u001b[0;32m<ipython-input-275-11c461efde78>\u001b[0m in \u001b[0;36m<module>\u001b[0;34m\u001b[0m\n\u001b[0;32m----> 1\u001b[0;31m \u001b[0mfragments\u001b[0m \u001b[0;34m=\u001b[0m \u001b[0mrenderer\u001b[0m\u001b[0;34m.\u001b[0m\u001b[0mrasterizer\u001b[0m\u001b[0;34m(\u001b[0m\u001b[0mmeshes\u001b[0m\u001b[0;34m)\u001b[0m\u001b[0;34m\u001b[0m\u001b[0;34m\u001b[0m\u001b[0m\n\u001b[0m\u001b[1;32m      2\u001b[0m \u001b[0mpix_to_face\u001b[0m \u001b[0;34m=\u001b[0m \u001b[0mfragments\u001b[0m\u001b[0;34m.\u001b[0m\u001b[0mpix_to_face\u001b[0m\u001b[0;34m\u001b[0m\u001b[0;34m\u001b[0m\u001b[0m\n\u001b[1;32m      3\u001b[0m \u001b[0mbary_coords\u001b[0m \u001b[0;34m=\u001b[0m \u001b[0mfragments\u001b[0m\u001b[0;34m.\u001b[0m\u001b[0mbary_coords\u001b[0m\u001b[0;34m\u001b[0m\u001b[0;34m\u001b[0m\u001b[0m\n\u001b[1;32m      4\u001b[0m \u001b[0mpix_to_face_mask\u001b[0m \u001b[0;34m=\u001b[0m \u001b[0mpix_to_face\u001b[0m \u001b[0;34m>=\u001b[0m \u001b[0;36m0\u001b[0m\u001b[0;34m\u001b[0m\u001b[0;34m\u001b[0m\u001b[0m\n",
            "\u001b[0;31mNameError\u001b[0m: name 'renderer' is not defined"
          ]
        }
      ]
    },
    {
      "cell_type": "code",
      "metadata": {
        "originalKey": "36ae5eca-676d-4374-b8c2-80bf65b84b57",
        "showInput": true,
        "customInput": null,
        "collapsed": false,
        "requestMsgId": "36ae5eca-676d-4374-b8c2-80bf65b84b57",
        "customOutput": null,
        "executionStartTime": 1664277413538,
        "executionStopTime": 1664277413544
      },
      "source": [
        "b = 8"
      ],
      "execution_count": 276,
      "outputs": []
    },
    {
      "cell_type": "code",
      "metadata": {
        "originalKey": "7941e46b-7ad3-410b-ad3b-f7f906793e28",
        "showInput": true,
        "customInput": null,
        "collapsed": false,
        "requestMsgId": "7941e46b-7ad3-410b-ad3b-f7f906793e28",
        "customOutput": null,
        "executionStartTime": 1664277413636,
        "executionStopTime": 1664277414010
      },
      "source": [
        "print(pix_to_face.shape, bary_coords.shape)\n",
        "print(pix_to_face[b, 98:101, 174:177, 0])\n",
        "print(bary_coords[b, 98:101, 174:177, 0]) # barycentric coords for each of vertices (I guess)\n",
        "\n",
        "h, w = 99, 175"
      ],
      "execution_count": 277,
      "outputs": [
        {
          "output_type": "stream",
          "name": "stdout",
          "text": [
            "torch.Size([5, 224, 224, 1]) torch.Size([5, 224, 224, 1, 3])\n"
          ]
        },
        {
          "output_type": "error",
          "ename": "IndexError",
          "evalue": "index 8 is out of bounds for dimension 0 with size 5",
          "traceback": [
            "\u001b[0;31m---------------------------------------------------------------------------\u001b[0m",
            "\u001b[0;31mIndexError\u001b[0m                                Traceback (most recent call last)",
            "\u001b[0;32m<ipython-input-277-b0bed383e4d0>\u001b[0m in \u001b[0;36m<module>\u001b[0;34m\u001b[0m\n\u001b[1;32m      1\u001b[0m \u001b[0mprint\u001b[0m\u001b[0;34m(\u001b[0m\u001b[0mpix_to_face\u001b[0m\u001b[0;34m.\u001b[0m\u001b[0mshape\u001b[0m\u001b[0;34m,\u001b[0m \u001b[0mbary_coords\u001b[0m\u001b[0;34m.\u001b[0m\u001b[0mshape\u001b[0m\u001b[0;34m)\u001b[0m\u001b[0;34m\u001b[0m\u001b[0;34m\u001b[0m\u001b[0m\n\u001b[0;32m----> 2\u001b[0;31m \u001b[0mprint\u001b[0m\u001b[0;34m(\u001b[0m\u001b[0mpix_to_face\u001b[0m\u001b[0;34m[\u001b[0m\u001b[0mb\u001b[0m\u001b[0;34m,\u001b[0m \u001b[0;36m98\u001b[0m\u001b[0;34m:\u001b[0m\u001b[0;36m101\u001b[0m\u001b[0;34m,\u001b[0m \u001b[0;36m174\u001b[0m\u001b[0;34m:\u001b[0m\u001b[0;36m177\u001b[0m\u001b[0;34m,\u001b[0m \u001b[0;36m0\u001b[0m\u001b[0;34m]\u001b[0m\u001b[0;34m)\u001b[0m\u001b[0;34m\u001b[0m\u001b[0;34m\u001b[0m\u001b[0m\n\u001b[0m\u001b[1;32m      3\u001b[0m \u001b[0mprint\u001b[0m\u001b[0;34m(\u001b[0m\u001b[0mbary_coords\u001b[0m\u001b[0;34m[\u001b[0m\u001b[0mb\u001b[0m\u001b[0;34m,\u001b[0m \u001b[0;36m98\u001b[0m\u001b[0;34m:\u001b[0m\u001b[0;36m101\u001b[0m\u001b[0;34m,\u001b[0m \u001b[0;36m174\u001b[0m\u001b[0;34m:\u001b[0m\u001b[0;36m177\u001b[0m\u001b[0;34m,\u001b[0m \u001b[0;36m0\u001b[0m\u001b[0;34m]\u001b[0m\u001b[0;34m)\u001b[0m \u001b[0;31m# barycentric coords for each of vertices (I guess)\u001b[0m\u001b[0;34m\u001b[0m\u001b[0;34m\u001b[0m\u001b[0m\n\u001b[1;32m      4\u001b[0m \u001b[0;34m\u001b[0m\u001b[0m\n\u001b[1;32m      5\u001b[0m \u001b[0mh\u001b[0m\u001b[0;34m,\u001b[0m \u001b[0mw\u001b[0m \u001b[0;34m=\u001b[0m \u001b[0;36m99\u001b[0m\u001b[0;34m,\u001b[0m \u001b[0;36m175\u001b[0m\u001b[0;34m\u001b[0m\u001b[0;34m\u001b[0m\u001b[0m\n",
            "\u001b[0;31mIndexError\u001b[0m: index 8 is out of bounds for dimension 0 with size 5"
          ]
        }
      ]
    },
    {
      "cell_type": "code",
      "metadata": {
        "originalKey": "f5fc4470-f1c2-49c5-9854-a15e26354f7c",
        "showInput": true,
        "customInput": null,
        "collapsed": false,
        "requestMsgId": "f5fc4470-f1c2-49c5-9854-a15e26354f7c",
        "customOutput": null,
        "executionStartTime": 1664180427676,
        "executionStopTime": 1664277414020
      },
      "source": [
        "tri = pix_to_face[b, h, w, 0]\n",
        "print(tri)\n",
        "verts_triplet_indices = faces_batch.view(-1, 3)[tri]\n",
        "print(verts_triplet_indices)"
      ],
      "execution_count": null,
      "outputs": []
    },
    {
      "cell_type": "code",
      "metadata": {
        "originalKey": "8d62ca6c-e927-4226-a6c2-b676b914cf61",
        "showInput": true,
        "customInput": null,
        "collapsed": false,
        "requestMsgId": "8d62ca6c-e927-4226-a6c2-b676b914cf61",
        "customOutput": null,
        "executionStartTime": 1664180252498,
        "executionStopTime": 1664277414029
      },
      "source": [
        "vertices[b][verts_triplet_indices]  # N=3 x xyz=3"
      ],
      "execution_count": null,
      "outputs": []
    },
    {
      "cell_type": "code",
      "metadata": {
        "originalKey": "b5a9f133-d2e4-44ba-bfca-739d96e57729",
        "showInput": true,
        "customInput": null,
        "collapsed": false,
        "requestMsgId": "b5a9f133-d2e4-44ba-bfca-739d96e57729",
        "customOutput": null,
        "executionStartTime": 1664180636987,
        "executionStopTime": 1664277414033
      },
      "source": [
        "p = (bary_coords[b, h, w, 0].view(3,1) * vertices[b][verts_triplet_indices]).sum(dim=0) # A,B,C with bary coords - must be done for every img pixel!\n",
        "print(p)"
      ],
      "execution_count": null,
      "outputs": []
    },
    {
      "cell_type": "code",
      "metadata": {
        "originalKey": "4238393e-e5ae-4622-90de-a184613d239f",
        "showInput": true,
        "customInput": null,
        "collapsed": false,
        "requestMsgId": "4238393e-e5ae-4622-90de-a184613d239f",
        "customOutput": null,
        "executionStartTime": 1664180696057,
        "executionStopTime": 1664277414070
      },
      "source": [
        "(-p[:2] + 1) / 2 * 224"
      ],
      "execution_count": null,
      "outputs": []
    },
    {
      "cell_type": "code",
      "metadata": {
        "originalKey": "3aa923b9-539b-4d29-baef-6fc8fd6f4cf9",
        "showInput": true,
        "customInput": null,
        "collapsed": false,
        "requestMsgId": "3aa923b9-539b-4d29-baef-6fc8fd6f4cf9",
        "customOutput": null,
        "executionStartTime": 1664277414596,
        "executionStopTime": 1664277414610
      },
      "source": [
        "plt.imshow(renderer(meshes)[0].cpu())"
      ],
      "execution_count": 278,
      "outputs": [
        {
          "output_type": "error",
          "ename": "NameError",
          "evalue": "name 'renderer' is not defined",
          "traceback": [
            "\u001b[0;31m---------------------------------------------------------------------------\u001b[0m",
            "\u001b[0;31mNameError\u001b[0m                                 Traceback (most recent call last)",
            "\u001b[0;32m<ipython-input-278-21fb66d896f8>\u001b[0m in \u001b[0;36m<module>\u001b[0;34m\u001b[0m\n\u001b[0;32m----> 1\u001b[0;31m \u001b[0mplt\u001b[0m\u001b[0;34m.\u001b[0m\u001b[0mimshow\u001b[0m\u001b[0;34m(\u001b[0m\u001b[0mrenderer\u001b[0m\u001b[0;34m(\u001b[0m\u001b[0mmeshes\u001b[0m\u001b[0;34m)\u001b[0m\u001b[0;34m[\u001b[0m\u001b[0;36m0\u001b[0m\u001b[0;34m]\u001b[0m\u001b[0;34m.\u001b[0m\u001b[0mcpu\u001b[0m\u001b[0;34m(\u001b[0m\u001b[0;34m)\u001b[0m\u001b[0;34m)\u001b[0m\u001b[0;34m\u001b[0m\u001b[0;34m\u001b[0m\u001b[0m\n\u001b[0m",
            "\u001b[0;31mNameError\u001b[0m: name 'renderer' is not defined"
          ]
        }
      ]
    },
    {
      "cell_type": "code",
      "metadata": {
        "originalKey": "c299590f-c6fd-4114-8664-75c49b5bf65a",
        "showInput": true,
        "customInput": null,
        "collapsed": false,
        "requestMsgId": "c299590f-c6fd-4114-8664-75c49b5bf65a",
        "customOutput": null,
        "executionStopTime": 1664277414620
      },
      "source": [
        ""
      ],
      "execution_count": null,
      "outputs": []
    },
    {
      "cell_type": "code",
      "metadata": {
        "originalKey": "9dedd5c7-12d5-4029-a194-6c1b19700700",
        "showInput": true,
        "customInput": null,
        "collapsed": false,
        "requestMsgId": "9dedd5c7-12d5-4029-a194-6c1b19700700",
        "customOutput": null,
        "executionStopTime": 1664277414636
      },
      "source": [
        ""
      ],
      "execution_count": null,
      "outputs": []
    },
    {
      "cell_type": "code",
      "metadata": {
        "originalKey": "041524bf-f66b-4fbc-ab67-6ec89a24ce0b",
        "showInput": true,
        "customInput": null,
        "collapsed": false,
        "requestMsgId": "041524bf-f66b-4fbc-ab67-6ec89a24ce0b",
        "customOutput": null,
        "executionStartTime": 1664277414941,
        "executionStopTime": 1664277414947
      },
      "source": [
        ""
      ],
      "execution_count": 279,
      "outputs": []
    },
    {
      "cell_type": "code",
      "metadata": {
        "originalKey": "a740b895-44bd-4ad4-9afe-01d53eb6431b",
        "showInput": true,
        "customInput": null,
        "collapsed": false
      },
      "source": [
        ""
      ],
      "execution_count": null,
      "outputs": []
    }
  ]
}
