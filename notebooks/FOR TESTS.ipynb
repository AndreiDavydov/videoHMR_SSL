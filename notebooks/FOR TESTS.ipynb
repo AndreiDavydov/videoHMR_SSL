{
  "cells": [
    {
      "cell_type": "code",
      "execution_count": 9,
      "metadata": {
        "collapsed": false,
        "customOutput": null,
        "executionStartTime": 1661860378451,
        "executionStopTime": 1661860380917,
        "originalKey": "26089e3d-cbaf-4471-a360-5f60d4e8c413",
        "requestMsgId": "26089e3d-cbaf-4471-a360-5f60d4e8c413"
      },
      "outputs": [
        {
          "name": "stdout",
          "output_type": "stream",
          "text": [
            "The autoreload extension is already loaded. To reload it, use:\n",
            "  %reload_ext autoreload\n"
          ]
        }
      ],
      "source": [
        "import os\n",
        "import sys\n",
        "\n",
        "import matplotlib.pyplot as plt\n",
        "import numpy as np\n",
        "import torch\n",
        "\n",
        "from tqdm import tqdm\n",
        "\n",
        "sys.path.insert(0, \"../\")\n",
        "\n",
        "%load_ext autoreload\n",
        "%autoreload 2"
      ]
    },
    {
      "cell_type": "code",
      "execution_count": 17,
      "metadata": {
        "collapsed": false,
        "customInput": null,
        "customOutput": null,
        "executionStartTime": 1661864908588,
        "executionStopTime": 1661864910758,
        "originalKey": "e10939b5-51ed-4a83-a654-40d88db5c230",
        "requestMsgId": "e10939b5-51ed-4a83-a654-40d88db5c230",
        "showInput": true
      },
      "outputs": [],
      "source": [
        "import src"
      ]
    },
    {
      "cell_type": "code",
      "execution_count": null,
      "metadata": {
        "customInput": null,
        "originalKey": "d315b294-f5ff-48d9-8bb9-314a4332dba7",
        "showInput": true
      },
      "outputs": [],
      "source": []
    },
    {
      "cell_type": "code",
      "execution_count": null,
      "metadata": {
        "customInput": null,
        "originalKey": "000e4f90-5467-41f3-9f3e-f1e17a562744",
        "showInput": true
      },
      "outputs": [],
      "source": []
    },
    {
      "cell_type": "code",
      "execution_count": null,
      "metadata": {
        "customInput": null,
        "originalKey": "e4fc0d1d-179e-4093-929c-799230ba06fa",
        "showInput": true
      },
      "outputs": [],
      "source": []
    },
    {
      "cell_type": "code",
      "execution_count": null,
      "metadata": {
        "customInput": null,
        "originalKey": "fd23e2a4-c0a5-4260-959f-eea7124cf759",
        "showInput": true
      },
      "outputs": [],
      "source": []
    },
    {
      "cell_type": "code",
      "execution_count": null,
      "metadata": {
        "customInput": null,
        "originalKey": "7310bbb4-4f12-43b6-94c9-695063c663ef",
        "showInput": true
      },
      "outputs": [],
      "source": []
    },
    {
      "cell_type": "code",
      "execution_count": null,
      "metadata": {
        "customInput": null,
        "originalKey": "a740b895-44bd-4ad4-9afe-01d53eb6431b",
        "showInput": true
      },
      "outputs": [],
      "source": []
    }
  ],
  "metadata": {
    "bento_stylesheets": {
      "bento/extensions/flow/main.css": true,
      "bento/extensions/kernel_selector/main.css": true,
      "bento/extensions/kernel_ui/main.css": true,
      "bento/extensions/new_kernel/main.css": true,
      "bento/extensions/system_usage/main.css": true,
      "bento/extensions/theme/main.css": true
    },
    "dataExplorerConfig": {},
    "kernelspec": {
      "cinder_runtime": false,
      "display_name": "body_tracking (local)",
      "language": "python",
      "metadata": {
        "cinder_runtime": false,
        "is_prebuilt": false,
        "kernel_name": "body_tracking_local"
      },
      "name": "body_tracking_local"
    },
    "language_info": {
      "codemirror_mode": {
        "name": "ipython",
        "version": 3
      },
      "file_extension": ".py",
      "mimetype": "text/x-python",
      "name": "python",
      "nbconvert_exporter": "python",
      "pygments_lexer": "ipython3"
    },
    "last_base_url": "https://16627.od.fbinfra.net:443/",
    "last_kernel_id": "19b56b39-047f-4c33-888d-ebf2210ffca3",
    "last_msg_id": "e4298362-ef1542c33bf3560cbfdd5719_64",
    "last_server_session_id": "924d2a54-6fec-4284-9d89-252eb3e83148",
    "outputWidgetContext": {}
  },
  "nbformat": 4,
  "nbformat_minor": 2
}
