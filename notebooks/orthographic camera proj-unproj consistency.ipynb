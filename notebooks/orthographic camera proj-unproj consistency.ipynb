{
 "cells": [
  {
   "cell_type": "code",
   "execution_count": 1,
   "metadata": {
    "customOutput": null,
    "executionStartTime": 1663240942183,
    "executionStopTime": 1663240943551,
    "originalKey": "2233bc73-b2d9-43b1-8abc-41c919bbc5be",
    "requestMsgId": "abc84e4f-3e6f-402c-a65b-ab0c08e7d8e5"
   },
   "outputs": [
    {
     "name": "stderr",
     "output_type": "stream",
     "text": [
      "/cvlabdata2/home/davydov/miniconda3/envs/hmr_ssl/lib/python3.10/site-packages/tqdm/auto.py:22: TqdmWarning: IProgress not found. Please update jupyter and ipywidgets. See https://ipywidgets.readthedocs.io/en/stable/user_install.html\n",
      "  from .autonotebook import tqdm as notebook_tqdm\n"
     ]
    }
   ],
   "source": [
    "import sys\n",
    "\n",
    "import matplotlib.pyplot as plt\n",
    "\n",
    "import numpy as np\n",
    "import torch\n",
    "\n",
    "sys.path.insert(0, \"../\")\n",
    "\n",
    "%load_ext autoreload\n",
    "%autoreload 2"
   ]
  },
  {
   "cell_type": "code",
   "execution_count": 3,
   "metadata": {
    "customInput": null,
    "customOutput": null,
    "executionStartTime": 1663240943660,
    "executionStopTime": 1663240944327,
    "originalKey": "22bbcbde-1ac8-4ddb-8d98-c8189fea9a85",
    "requestMsgId": "6bb3e1a6-3019-45d0-9eb9-55b216c8578c",
    "showInput": true
   },
   "outputs": [
    {
     "name": "stdout",
     "output_type": "stream",
     "text": [
      "tensor([[ 1.7448, -0.5693,  0.2205],\n",
      "        [-1.8953,  1.2106, -0.6533],\n",
      "        [-1.1840, -1.3499, -0.0798],\n",
      "        [ 0.2932,  1.4101, -1.5955]]) \n",
      "\n",
      "tensor([[ 1.7448, -0.5693, -0.0079],\n",
      "        [-1.8953,  1.2106, -0.0167],\n",
      "        [-1.1840, -1.3499, -0.0109],\n",
      "        [ 0.2932,  1.4101, -0.0262]]) \n",
      "\n",
      "tensor([[ 1.7448, -0.5693,  0.2205],\n",
      "        [-1.8953,  1.2106, -0.6533],\n",
      "        [-1.1840, -1.3499, -0.0798],\n",
      "        [ 0.2932,  1.4101, -1.5955]]) \n",
      "\n",
      "tensor(1.5423e-06)\n"
     ]
    }
   ],
   "source": [
    "import src\n",
    "from src.functional.renderer import ColoredRenderer\n",
    "\n",
    "renderer = ColoredRenderer(img_size=(100, 100))\n",
    "vertices = torch.randn((10, 4, 3))\n",
    "print(vertices[0], \"\\n\")\n",
    "\n",
    "transformed_points = renderer.cameras.transform_points(vertices)\n",
    "untransformed_points = renderer.cameras.unproject_points(\n",
    "    transformed_points, world_coordinates=True, scaled_depth_input=True, from_ndc=True\n",
    ")\n",
    "\n",
    "print(transformed_points[0], \"\\n\")\n",
    "print(untransformed_points[0], \"\\n\")\n",
    "\n",
    "print((vertices - untransformed_points).abs().sum())"
   ]
  },
  {
   "cell_type": "code",
   "execution_count": 3,
   "metadata": {
    "customInput": null,
    "customOutput": null,
    "executionStartTime": 1663240944432,
    "executionStopTime": 1663240944540,
    "originalKey": "24e46094-8841-4ce5-84f9-ac97db591295",
    "requestMsgId": "8b8babbe-41b2-477c-948b-07c171d5e4da",
    "showInput": true
   },
   "outputs": [],
   "source": []
  },
  {
   "cell_type": "code",
   "execution_count": null,
   "metadata": {
    "customInput": null,
    "originalKey": "8421331c-47dc-405a-937e-05a5f0355561",
    "showInput": true
   },
   "outputs": [],
   "source": []
  }
 ],
 "metadata": {
  "bento_stylesheets": {
   "bento/extensions/flow/main.css": true,
   "bento/extensions/kernel_selector/main.css": true,
   "bento/extensions/kernel_ui/main.css": true,
   "bento/extensions/new_kernel/main.css": true,
   "bento/extensions/system_usage/main.css": true,
   "bento/extensions/theme/main.css": true
  },
  "dataExplorerConfig": {},
  "kernelspec": {
   "display_name": "hmr_ssl",
   "language": "python",
   "name": "hmr_ssl"
  },
  "language_info": {
   "codemirror_mode": {
    "name": "ipython",
    "version": 3
   },
   "file_extension": ".py",
   "mimetype": "text/x-python",
   "name": "python",
   "nbconvert_exporter": "python",
   "pygments_lexer": "ipython3",
   "version": "3.10.6"
  },
  "last_base_url": "https://12426.od.fbinfra.net:443/",
  "last_kernel_id": "9307644a-6427-4ef0-b9a9-7363bfcd3f35",
  "last_msg_id": "9c4d0387-044835d1afe9e346be3c3da3_45",
  "last_server_session_id": "3f542b4b-1fed-44f7-8c7e-d03140f4fa2a",
  "outputWidgetContext": {}
 },
 "nbformat": 4,
 "nbformat_minor": 2
}
